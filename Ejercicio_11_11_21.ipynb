{
  "nbformat": 4,
  "nbformat_minor": 0,
  "metadata": {
    "colab": {
      "name": "Ejercicio 11-11-21.ipynb",
      "provenance": [],
      "authorship_tag": "ABX9TyP0gIw4HRkDNq0lzLIPgvfF",
      "include_colab_link": true
    },
    "kernelspec": {
      "name": "python3",
      "display_name": "Python 3"
    },
    "language_info": {
      "name": "python"
    }
  },
  "cells": [
    {
      "cell_type": "markdown",
      "metadata": {
        "id": "view-in-github",
        "colab_type": "text"
      },
      "source": [
        "<a href=\"https://colab.research.google.com/github/Karla-Valentin/ejercicio-11-11-21/blob/main/Ejercicio_11_11_21.ipynb\" target=\"_parent\"><img src=\"https://colab.research.google.com/assets/colab-badge.svg\" alt=\"Open In Colab\"/></a>"
      ]
    },
    {
      "cell_type": "code",
      "metadata": {
        "colab": {
          "base_uri": "https://localhost:8080/"
        },
        "id": "OjLgcZ0JJNSM",
        "outputId": "42690877-b166-42ba-b10e-f5f3c75437e5"
      },
      "source": [
        "pelicula= { \"nombre\" : \"Crepusculo\" ,\n",
        "           \"nombre en ingles\" : \"twiglight\",\n",
        "           \"Autores\" : { \n",
        "                        \"persona1\" : \"William Smith\",\n",
        "                        \"persona2\" : \"Henry Williams \", \n",
        "           \"Paises en donde se estrenara\" : {\n",
        "                        \"pais1\" : \"Mexico\",\n",
        "                        \"pais2\" : \"Estados Unidos\",\n",
        "                        \"pais3\" : \"Argentina\",\n",
        "             \"Dia en que se estrenara\"  :  {\n",
        "                         \"opcion1\" : \"12 de diciembre\",\n",
        "                         \"opcion2\" : \"15 de diciembre\",\n",
        "                         \"opcion3\" : \"17 de diciembre\",\n",
        "             \"Idiomas disponibles\" : { \n",
        "                          \"idioma1\" : \"Ingles\",\n",
        "                          \"idioma2\" : \"español\",\n",
        "                          \"idioma3\" : \"portugues\",\n",
        "                          \"idioma4\" : \"frances\",\n",
        "           }          \n",
        "            } \n",
        "           }                       \n",
        "           } \n",
        "           }\n",
        "print(pelicula)"
      ],
      "execution_count": 22,
      "outputs": [
        {
          "output_type": "stream",
          "name": "stdout",
          "text": [
            "{'nombre': 'Crepusculo', 'nombre en ingles': 'twiglight', 'Autores': {'persona1': 'William Smith', 'persona2': 'Henry Williams ', 'Paises en donde se estrenara': {'pais1': 'Mexico', 'pais2': 'Estados Unidos', 'pais3': 'Argentina', 'Dia en que se estrenara': {'opcion1': '12 de diciembre', 'opcion2': '15 de diciembre', 'opcion3': '17 de diciembre', 'Idiomas disponibles': {'idioma1': 'Ingles', 'idioma2': 'español', 'idioma3': 'portugues', 'idioma4': 'frances'}}}}}\n"
          ]
        }
      ]
    }
  ]
}