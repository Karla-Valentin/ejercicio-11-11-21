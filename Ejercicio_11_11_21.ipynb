{
  "nbformat": 4,
  "nbformat_minor": 0,
  "metadata": {
    "colab": {
      "name": "Ejercicio 11-11-21.ipynb",
      "provenance": [],
      "authorship_tag": "ABX9TyNWk16kYH4F1UHd6RkKm9y5",
      "include_colab_link": true
    },
    "kernelspec": {
      "name": "python3",
      "display_name": "Python 3"
    },
    "language_info": {
      "name": "python"
    }
  },
  "cells": [
    {
      "cell_type": "markdown",
      "metadata": {
        "id": "view-in-github",
        "colab_type": "text"
      },
      "source": [
        "<a href=\"https://colab.research.google.com/github/Karla-Valentin/ejercicio-11-11-21/blob/main/Ejercicio_11_11_21.ipynb\" target=\"_parent\"><img src=\"https://colab.research.google.com/assets/colab-badge.svg\" alt=\"Open In Colab\"/></a>"
      ]
    },
    {
      "cell_type": "code",
      "metadata": {
        "colab": {
          "base_uri": "https://localhost:8080/"
        },
        "id": "OjLgcZ0JJNSM",
        "outputId": "6d884411-97c8-4e7d-f867-b464d37dbda1"
      },
      "source": [
        "pelicula= { \"nombre\" : \"Crepusculo\" ,\n",
        "           \"nombre en ingles\" : \"twiglight\",\n",
        "           \"Autores\" : { \n",
        "                        \"persona1\" : \"William Smith\",\n",
        "                        \"persona2\" : \"Henry Williams \", \n",
        "           \"Paises en donde se estrenara\" : {\n",
        "                        \"pais1\" : \"Mexico\",\n",
        "                        \"pais2\" : \"Estados Unidos\",\n",
        "                        \"pais3\" : \"Argentina\"\n",
        "            }                        \n",
        "           } \n",
        "           }\n",
        "print(pelicula)"
      ],
      "execution_count": 20,
      "outputs": [
        {
          "output_type": "stream",
          "name": "stdout",
          "text": [
            "{'nombre': 'Crepusculo', 'nombre en ingles': 'twiglight', 'Autores': {'persona1': 'William Smith', 'persona2': 'Henry Williams ', 'Paises en donde se estrenara': {'pais1': 'Mexico', 'pais2': 'Estados Unidos', 'pais3': 'Argentina'}}}\n"
          ]
        }
      ]
    }
  ]
}